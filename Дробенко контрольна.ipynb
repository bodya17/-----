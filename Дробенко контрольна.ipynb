{
 "cells": [
  {
   "cell_type": "code",
   "execution_count": 84,
   "metadata": {
    "collapsed": true
   },
   "outputs": [],
   "source": [
    "from sympy import *"
   ]
  },
  {
   "cell_type": "code",
   "execution_count": 85,
   "metadata": {
    "collapsed": true
   },
   "outputs": [],
   "source": [
    "init_printing()"
   ]
  },
  {
   "cell_type": "code",
   "execution_count": 86,
   "metadata": {},
   "outputs": [],
   "source": [
    "x, L = symbols('x, L')"
   ]
  },
  {
   "cell_type": "code",
   "execution_count": 88,
   "metadata": {},
   "outputs": [],
   "source": [
    "N1 = simplify('1/4 * (x**3 - 3*x + 2)')\n",
    "N2 = simplify('L/8 * (x**3 - x**2- x + 1)')\n",
    "N3 = simplify('-1/4 * (x**3 - 3*x - 2)')\n",
    "N4 = simplify('L/8 * (x**3 + x**2 - x - 1)')"
   ]
  },
  {
   "cell_type": "code",
   "execution_count": 89,
   "metadata": {
    "collapsed": true
   },
   "outputs": [],
   "source": [
    "def foo(foo1, foo2):\n",
    "    return integrate(diff(foo1, x) * diff(foo2, x), (x, -1, 1))"
   ]
  },
  {
   "cell_type": "code",
   "execution_count": 90,
   "metadata": {},
   "outputs": [
    {
     "data": {
      "text/latex": [
       "$$\\left[\\begin{matrix}\\frac{3}{5} & \\frac{L}{20} & - \\frac{3}{5} & \\frac{L}{20}\\\\\\frac{L}{20} & \\frac{L^{2}}{15} & - \\frac{L}{20} & - \\frac{L^{2}}{60}\\\\- \\frac{3}{5} & - \\frac{L}{20} & \\frac{3}{5} & - \\frac{L}{20}\\\\\\frac{L}{20} & - \\frac{L^{2}}{60} & - \\frac{L}{20} & \\frac{L^{2}}{15}\\end{matrix}\\right]$$"
      ],
      "text/plain": [
       "⎡       L           L  ⎤\n",
       "⎢3/5    ──   -3/5   ── ⎥\n",
       "⎢       20          20 ⎥\n",
       "⎢                      ⎥\n",
       "⎢        2           2 ⎥\n",
       "⎢ L     L    -L    -L  ⎥\n",
       "⎢ ──    ──   ───   ────⎥\n",
       "⎢ 20    15    20    60 ⎥\n",
       "⎢                      ⎥\n",
       "⎢      -L          -L  ⎥\n",
       "⎢-3/5  ───   3/5   ─── ⎥\n",
       "⎢       20          20 ⎥\n",
       "⎢                      ⎥\n",
       "⎢        2           2 ⎥\n",
       "⎢ L    -L    -L     L  ⎥\n",
       "⎢ ──   ────  ───    ── ⎥\n",
       "⎣ 20    60    20    15 ⎦"
      ]
     },
     "execution_count": 90,
     "metadata": {},
     "output_type": "execute_result"
    }
   ],
   "source": [
    "Matrix([\n",
    "    [foo(N1, N1), foo(N1, N2), foo(N1, N3), foo(N1, N4)],\n",
    "    [foo(N2, N1), foo(N2, N2), foo(N2, N3), foo(N2, N4)],\n",
    "    [foo(N3, N1), foo(N3, N2), foo(N3, N3), foo(N3, N4)],\n",
    "    [foo(N4, N1), foo(N4, N2), foo(N4, N3), foo(N4, N4)]\n",
    "])"
   ]
  }
 ],
 "metadata": {
  "kernelspec": {
   "display_name": "Python 3",
   "language": "python",
   "name": "python3"
  },
  "language_info": {
   "codemirror_mode": {
    "name": "ipython",
    "version": 3
   },
   "file_extension": ".py",
   "mimetype": "text/x-python",
   "name": "python",
   "nbconvert_exporter": "python",
   "pygments_lexer": "ipython3",
   "version": "3.6.1"
  }
 },
 "nbformat": 4,
 "nbformat_minor": 2
}
